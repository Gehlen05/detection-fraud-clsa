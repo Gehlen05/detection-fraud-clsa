{
 "cells": [
  {
   "cell_type": "code",
   "execution_count": 39,
   "id": "6b81c46f",
   "metadata": {},
   "outputs": [],
   "source": [
    "import pandas as pd"
   ]
  },
  {
   "cell_type": "markdown",
   "id": "63d920ea",
   "metadata": {},
   "source": [
    "Particularmente prefiro fazer esses filtros em SQL, acho mais simples de implementar e mais limpo."
   ]
  },
  {
   "cell_type": "code",
   "execution_count": 40,
   "id": "3ba66468",
   "metadata": {},
   "outputs": [],
   "source": [
    "# Criação df emula a tabela da questão\n",
    "customer_orders = pd.DataFrame({\n",
    "    \"order_id\": [1, 2, 4, 5],\n",
    "    \"customer_name\": [\"Alex\", \"Carol\", \"Dani\", \"Janete\"],\n",
    "    \"customer_id\": [10, 11, 12, 13]\n",
    "})"
   ]
  },
  {
   "cell_type": "code",
   "execution_count": 41,
   "id": "e92b1926",
   "metadata": {},
   "outputs": [
    {
     "data": {
      "text/html": [
       "<div>\n",
       "<style scoped>\n",
       "    .dataframe tbody tr th:only-of-type {\n",
       "        vertical-align: middle;\n",
       "    }\n",
       "\n",
       "    .dataframe tbody tr th {\n",
       "        vertical-align: top;\n",
       "    }\n",
       "\n",
       "    .dataframe thead th {\n",
       "        text-align: right;\n",
       "    }\n",
       "</style>\n",
       "<table border=\"1\" class=\"dataframe\">\n",
       "  <thead>\n",
       "    <tr style=\"text-align: right;\">\n",
       "      <th></th>\n",
       "      <th>order_id</th>\n",
       "      <th>customer_name</th>\n",
       "      <th>customer_id</th>\n",
       "    </tr>\n",
       "  </thead>\n",
       "  <tbody>\n",
       "    <tr>\n",
       "      <th>0</th>\n",
       "      <td>1</td>\n",
       "      <td>Alex</td>\n",
       "      <td>10</td>\n",
       "    </tr>\n",
       "    <tr>\n",
       "      <th>1</th>\n",
       "      <td>2</td>\n",
       "      <td>Carol</td>\n",
       "      <td>11</td>\n",
       "    </tr>\n",
       "    <tr>\n",
       "      <th>2</th>\n",
       "      <td>4</td>\n",
       "      <td>Dani</td>\n",
       "      <td>12</td>\n",
       "    </tr>\n",
       "    <tr>\n",
       "      <th>3</th>\n",
       "      <td>5</td>\n",
       "      <td>Janete</td>\n",
       "      <td>13</td>\n",
       "    </tr>\n",
       "  </tbody>\n",
       "</table>\n",
       "</div>"
      ],
      "text/plain": [
       "   order_id customer_name  customer_id\n",
       "0         1          Alex           10\n",
       "1         2         Carol           11\n",
       "2         4          Dani           12\n",
       "3         5        Janete           13"
      ]
     },
     "execution_count": 41,
     "metadata": {},
     "output_type": "execute_result"
    }
   ],
   "source": [
    "customer_orders.head()"
   ]
  },
  {
   "cell_type": "code",
   "execution_count": 42,
   "id": "41e6fd80",
   "metadata": {},
   "outputs": [],
   "source": [
    "# Criação df emula a tabela da questão\n",
    "address_details = pd.DataFrame({\n",
    "    \"order_id\": [1, 2, 4],\n",
    "    \"address\": [\"Florianopolis\", \"Ita\", \"Toledo\"],\n",
    "    \"state\": [\"SC\", \"SC\", \"PR\"],\n",
    "    \"country\": [\"BR\", \"BR\",  \"BR\"],\n",
    "    \"zip_code\": [\"88034101\", \"88034-102\", \"8976000\"]\n",
    "\n",
    "})"
   ]
  },
  {
   "cell_type": "code",
   "execution_count": 43,
   "id": "a7711362",
   "metadata": {},
   "outputs": [
    {
     "data": {
      "text/html": [
       "<div>\n",
       "<style scoped>\n",
       "    .dataframe tbody tr th:only-of-type {\n",
       "        vertical-align: middle;\n",
       "    }\n",
       "\n",
       "    .dataframe tbody tr th {\n",
       "        vertical-align: top;\n",
       "    }\n",
       "\n",
       "    .dataframe thead th {\n",
       "        text-align: right;\n",
       "    }\n",
       "</style>\n",
       "<table border=\"1\" class=\"dataframe\">\n",
       "  <thead>\n",
       "    <tr style=\"text-align: right;\">\n",
       "      <th></th>\n",
       "      <th>order_id</th>\n",
       "      <th>address</th>\n",
       "      <th>state</th>\n",
       "      <th>country</th>\n",
       "      <th>zip_code</th>\n",
       "    </tr>\n",
       "  </thead>\n",
       "  <tbody>\n",
       "    <tr>\n",
       "      <th>0</th>\n",
       "      <td>1</td>\n",
       "      <td>Florianopolis</td>\n",
       "      <td>SC</td>\n",
       "      <td>BR</td>\n",
       "      <td>88034101</td>\n",
       "    </tr>\n",
       "    <tr>\n",
       "      <th>1</th>\n",
       "      <td>2</td>\n",
       "      <td>Ita</td>\n",
       "      <td>SC</td>\n",
       "      <td>BR</td>\n",
       "      <td>88034-102</td>\n",
       "    </tr>\n",
       "    <tr>\n",
       "      <th>2</th>\n",
       "      <td>4</td>\n",
       "      <td>Toledo</td>\n",
       "      <td>PR</td>\n",
       "      <td>BR</td>\n",
       "      <td>8976000</td>\n",
       "    </tr>\n",
       "  </tbody>\n",
       "</table>\n",
       "</div>"
      ],
      "text/plain": [
       "   order_id        address state country   zip_code\n",
       "0         1  Florianopolis    SC      BR   88034101\n",
       "1         2            Ita    SC      BR  88034-102\n",
       "2         4         Toledo    PR      BR    8976000"
      ]
     },
     "execution_count": 43,
     "metadata": {},
     "output_type": "execute_result"
    }
   ],
   "source": [
    "address_details"
   ]
  },
  {
   "cell_type": "code",
   "execution_count": 44,
   "id": "6567e253",
   "metadata": {},
   "outputs": [],
   "source": [
    "# Merge dos dois df baseado quando a coluna order_id dos dois forem iguais\n",
    "df_merged = pd.merge(customer_orders, address_details, on='order_id', how='inner')"
   ]
  },
  {
   "cell_type": "code",
   "execution_count": 45,
   "id": "f698b500",
   "metadata": {},
   "outputs": [
    {
     "data": {
      "text/html": [
       "<div>\n",
       "<style scoped>\n",
       "    .dataframe tbody tr th:only-of-type {\n",
       "        vertical-align: middle;\n",
       "    }\n",
       "\n",
       "    .dataframe tbody tr th {\n",
       "        vertical-align: top;\n",
       "    }\n",
       "\n",
       "    .dataframe thead th {\n",
       "        text-align: right;\n",
       "    }\n",
       "</style>\n",
       "<table border=\"1\" class=\"dataframe\">\n",
       "  <thead>\n",
       "    <tr style=\"text-align: right;\">\n",
       "      <th></th>\n",
       "      <th>order_id</th>\n",
       "      <th>customer_name</th>\n",
       "      <th>customer_id</th>\n",
       "      <th>address</th>\n",
       "      <th>state</th>\n",
       "      <th>country</th>\n",
       "      <th>zip_code</th>\n",
       "    </tr>\n",
       "  </thead>\n",
       "  <tbody>\n",
       "    <tr>\n",
       "      <th>0</th>\n",
       "      <td>1</td>\n",
       "      <td>Alex</td>\n",
       "      <td>10</td>\n",
       "      <td>Florianopolis</td>\n",
       "      <td>SC</td>\n",
       "      <td>BR</td>\n",
       "      <td>88034101</td>\n",
       "    </tr>\n",
       "    <tr>\n",
       "      <th>1</th>\n",
       "      <td>2</td>\n",
       "      <td>Carol</td>\n",
       "      <td>11</td>\n",
       "      <td>Ita</td>\n",
       "      <td>SC</td>\n",
       "      <td>BR</td>\n",
       "      <td>88034-102</td>\n",
       "    </tr>\n",
       "    <tr>\n",
       "      <th>2</th>\n",
       "      <td>4</td>\n",
       "      <td>Dani</td>\n",
       "      <td>12</td>\n",
       "      <td>Toledo</td>\n",
       "      <td>PR</td>\n",
       "      <td>BR</td>\n",
       "      <td>8976000</td>\n",
       "    </tr>\n",
       "  </tbody>\n",
       "</table>\n",
       "</div>"
      ],
      "text/plain": [
       "   order_id customer_name  customer_id        address state country   zip_code\n",
       "0         1          Alex           10  Florianopolis    SC      BR   88034101\n",
       "1         2         Carol           11            Ita    SC      BR  88034-102\n",
       "2         4          Dani           12         Toledo    PR      BR    8976000"
      ]
     },
     "execution_count": 45,
     "metadata": {},
     "output_type": "execute_result"
    }
   ],
   "source": [
    "df_merged.head()"
   ]
  },
  {
   "cell_type": "code",
   "execution_count": 46,
   "id": "bd8a42ad",
   "metadata": {},
   "outputs": [],
   "source": [
    "# Após a junção dos df a aplicação dos filtros where da query. \n",
    "# Quando o campo tem mais ou igual a 5 caracteres e o segundo\n",
    "# um campo sem traços, vazio ou com endereço não valido\n",
    "df_filtred = df_merged[(df_merged['address'].str.len() >= 5) & \n",
    "                        (~df_merged['address'].isin(['-', '', 'SOME ADDRESS']))]"
   ]
  },
  {
   "cell_type": "code",
   "execution_count": 47,
   "id": "d64c9445",
   "metadata": {},
   "outputs": [
    {
     "data": {
      "text/html": [
       "<div>\n",
       "<style scoped>\n",
       "    .dataframe tbody tr th:only-of-type {\n",
       "        vertical-align: middle;\n",
       "    }\n",
       "\n",
       "    .dataframe tbody tr th {\n",
       "        vertical-align: top;\n",
       "    }\n",
       "\n",
       "    .dataframe thead th {\n",
       "        text-align: right;\n",
       "    }\n",
       "</style>\n",
       "<table border=\"1\" class=\"dataframe\">\n",
       "  <thead>\n",
       "    <tr style=\"text-align: right;\">\n",
       "      <th></th>\n",
       "      <th>order_id</th>\n",
       "      <th>customer_name</th>\n",
       "      <th>customer_id</th>\n",
       "      <th>address</th>\n",
       "      <th>state</th>\n",
       "      <th>country</th>\n",
       "      <th>zip_code</th>\n",
       "    </tr>\n",
       "  </thead>\n",
       "  <tbody>\n",
       "    <tr>\n",
       "      <th>0</th>\n",
       "      <td>1</td>\n",
       "      <td>Alex</td>\n",
       "      <td>10</td>\n",
       "      <td>Florianopolis</td>\n",
       "      <td>SC</td>\n",
       "      <td>BR</td>\n",
       "      <td>88034101</td>\n",
       "    </tr>\n",
       "    <tr>\n",
       "      <th>2</th>\n",
       "      <td>4</td>\n",
       "      <td>Dani</td>\n",
       "      <td>12</td>\n",
       "      <td>Toledo</td>\n",
       "      <td>PR</td>\n",
       "      <td>BR</td>\n",
       "      <td>8976000</td>\n",
       "    </tr>\n",
       "  </tbody>\n",
       "</table>\n",
       "</div>"
      ],
      "text/plain": [
       "   order_id customer_name  customer_id        address state country  zip_code\n",
       "0         1          Alex           10  Florianopolis    SC      BR  88034101\n",
       "2         4          Dani           12         Toledo    PR      BR   8976000"
      ]
     },
     "execution_count": 47,
     "metadata": {},
     "output_type": "execute_result"
    }
   ],
   "source": [
    "df_filtred"
   ]
  },
  {
   "cell_type": "code",
   "execution_count": 48,
   "id": "f13c2e11",
   "metadata": {},
   "outputs": [],
   "source": [
    "# Por último a ordenão de maneira crescente\n",
    "df_order = df_filtred.sort_values(by='order_id')"
   ]
  },
  {
   "cell_type": "code",
   "execution_count": 49,
   "id": "16a0a22a",
   "metadata": {},
   "outputs": [
    {
     "data": {
      "text/html": [
       "<div>\n",
       "<style scoped>\n",
       "    .dataframe tbody tr th:only-of-type {\n",
       "        vertical-align: middle;\n",
       "    }\n",
       "\n",
       "    .dataframe tbody tr th {\n",
       "        vertical-align: top;\n",
       "    }\n",
       "\n",
       "    .dataframe thead th {\n",
       "        text-align: right;\n",
       "    }\n",
       "</style>\n",
       "<table border=\"1\" class=\"dataframe\">\n",
       "  <thead>\n",
       "    <tr style=\"text-align: right;\">\n",
       "      <th></th>\n",
       "      <th>order_id</th>\n",
       "      <th>customer_name</th>\n",
       "      <th>customer_id</th>\n",
       "      <th>address</th>\n",
       "      <th>state</th>\n",
       "      <th>country</th>\n",
       "      <th>zip_code</th>\n",
       "    </tr>\n",
       "  </thead>\n",
       "  <tbody>\n",
       "    <tr>\n",
       "      <th>0</th>\n",
       "      <td>1</td>\n",
       "      <td>Alex</td>\n",
       "      <td>10</td>\n",
       "      <td>Florianopolis</td>\n",
       "      <td>SC</td>\n",
       "      <td>BR</td>\n",
       "      <td>88034101</td>\n",
       "    </tr>\n",
       "    <tr>\n",
       "      <th>2</th>\n",
       "      <td>4</td>\n",
       "      <td>Dani</td>\n",
       "      <td>12</td>\n",
       "      <td>Toledo</td>\n",
       "      <td>PR</td>\n",
       "      <td>BR</td>\n",
       "      <td>8976000</td>\n",
       "    </tr>\n",
       "  </tbody>\n",
       "</table>\n",
       "</div>"
      ],
      "text/plain": [
       "   order_id customer_name  customer_id        address state country  zip_code\n",
       "0         1          Alex           10  Florianopolis    SC      BR  88034101\n",
       "2         4          Dani           12         Toledo    PR      BR   8976000"
      ]
     },
     "execution_count": 49,
     "metadata": {},
     "output_type": "execute_result"
    }
   ],
   "source": [
    "df_order"
   ]
  }
 ],
 "metadata": {
  "kernelspec": {
   "display_name": "Python 3 (ipykernel)",
   "language": "python",
   "name": "python3"
  },
  "language_info": {
   "codemirror_mode": {
    "name": "ipython",
    "version": 3
   },
   "file_extension": ".py",
   "mimetype": "text/x-python",
   "name": "python",
   "nbconvert_exporter": "python",
   "pygments_lexer": "ipython3",
   "version": "3.10.12"
  }
 },
 "nbformat": 4,
 "nbformat_minor": 5
}
