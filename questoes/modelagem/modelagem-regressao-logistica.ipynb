{
 "cells": [
  {
   "cell_type": "code",
   "execution_count": 55,
   "id": "c35eca69",
   "metadata": {},
   "outputs": [],
   "source": [
    "import fireducks.pandas as pd\n",
    "import matplotlib.pyplot as plt\n",
    "import seaborn as sns\n",
    "from sklearn.datasets import make_classification\n",
    "from sklearn.model_selection import train_test_split\n",
    "from sklearn import metrics\n",
    "from ast import increment_lineno\n",
    "from sklearn.metrics import confusion_matrix\n",
    "from sklearn.metrics import ConfusionMatrixDisplay\n",
    "from sklearn.ensemble import RandomForestClassifier, RandomForestRegressor\n",
    "from sklearn.model_selection import StratifiedKFold, cross_val_score\n",
    "from sklearn.linear_model import LogisticRegression\n",
    "import numpy as np\n",
    "import pickle"
   ]
  },
  {
   "cell_type": "markdown",
   "id": "730f92cb",
   "metadata": {},
   "source": [
    "### Limpeza e Tratamento dos Dados"
   ]
  },
  {
   "cell_type": "code",
   "execution_count": 56,
   "id": "7e604f6f",
   "metadata": {},
   "outputs": [],
   "source": [
    "df_clean = pd.read_csv(\"fraud_data.csv\")"
   ]
  },
  {
   "cell_type": "code",
   "execution_count": 57,
   "id": "a0d85371",
   "metadata": {},
   "outputs": [
    {
     "data": {
      "text/html": [
       "<div>\n",
       "<style scoped>\n",
       "    .dataframe tbody tr th:only-of-type {\n",
       "        vertical-align: middle;\n",
       "    }\n",
       "\n",
       "    .dataframe tbody tr th {\n",
       "        vertical-align: top;\n",
       "    }\n",
       "\n",
       "    .dataframe thead th {\n",
       "        text-align: right;\n",
       "    }\n",
       "</style>\n",
       "<table border=\"1\" class=\"dataframe\">\n",
       "  <thead>\n",
       "    <tr style=\"text-align: right;\">\n",
       "      <th></th>\n",
       "      <th>trans_date_trans_time</th>\n",
       "      <th>merchant</th>\n",
       "      <th>category</th>\n",
       "      <th>amt</th>\n",
       "      <th>city</th>\n",
       "      <th>state</th>\n",
       "      <th>lat</th>\n",
       "      <th>long</th>\n",
       "      <th>city_pop</th>\n",
       "      <th>job</th>\n",
       "      <th>dob</th>\n",
       "      <th>trans_num</th>\n",
       "      <th>merch_lat</th>\n",
       "      <th>merch_long</th>\n",
       "      <th>is_fraud</th>\n",
       "    </tr>\n",
       "  </thead>\n",
       "  <tbody>\n",
       "    <tr>\n",
       "      <th>0</th>\n",
       "      <td>04-01-2019 00:58</td>\n",
       "      <td>\"Stokes, Christiansen and Sipes\"</td>\n",
       "      <td>grocery_net</td>\n",
       "      <td>14.37</td>\n",
       "      <td>Wales</td>\n",
       "      <td>AK</td>\n",
       "      <td>64.7556</td>\n",
       "      <td>-165.6723</td>\n",
       "      <td>145</td>\n",
       "      <td>\"Administrator, education\"</td>\n",
       "      <td>09-11-1939</td>\n",
       "      <td>a3806e984cec6ac0096d8184c64ad3a1</td>\n",
       "      <td>65.654142</td>\n",
       "      <td>-164.722603</td>\n",
       "      <td>1</td>\n",
       "    </tr>\n",
       "    <tr>\n",
       "      <th>1</th>\n",
       "      <td>04-01-2019 15:06</td>\n",
       "      <td>Predovic Inc</td>\n",
       "      <td>shopping_net</td>\n",
       "      <td>966.11</td>\n",
       "      <td>Wales</td>\n",
       "      <td>AK</td>\n",
       "      <td>64.7556</td>\n",
       "      <td>-165.6723</td>\n",
       "      <td>145</td>\n",
       "      <td>\"Administrator, education\"</td>\n",
       "      <td>09-11-1939</td>\n",
       "      <td>a59185fe1b9ccf21323f581d7477573f</td>\n",
       "      <td>65.468863</td>\n",
       "      <td>-165.473127</td>\n",
       "      <td>1</td>\n",
       "    </tr>\n",
       "    <tr>\n",
       "      <th>2</th>\n",
       "      <td>04-01-2019 22:37</td>\n",
       "      <td>Wisozk and Sons</td>\n",
       "      <td>misc_pos</td>\n",
       "      <td>49.61</td>\n",
       "      <td>Wales</td>\n",
       "      <td>AK</td>\n",
       "      <td>64.7556</td>\n",
       "      <td>-165.6723</td>\n",
       "      <td>145</td>\n",
       "      <td>\"Administrator, education\"</td>\n",
       "      <td>09-11-1939</td>\n",
       "      <td>86ba3a888b42cd3925881fa34177b4e0</td>\n",
       "      <td>65.347667</td>\n",
       "      <td>-165.914542</td>\n",
       "      <td>1</td>\n",
       "    </tr>\n",
       "    <tr>\n",
       "      <th>3</th>\n",
       "      <td>04-01-2019 23:06</td>\n",
       "      <td>Murray-Smitham</td>\n",
       "      <td>grocery_pos</td>\n",
       "      <td>295.26</td>\n",
       "      <td>Wales</td>\n",
       "      <td>AK</td>\n",
       "      <td>64.7556</td>\n",
       "      <td>-165.6723</td>\n",
       "      <td>145</td>\n",
       "      <td>\"Administrator, education\"</td>\n",
       "      <td>09-11-1939</td>\n",
       "      <td>3a068fe1d856f0ecedbed33e4b5f4496</td>\n",
       "      <td>64.445035</td>\n",
       "      <td>-166.080207</td>\n",
       "      <td>1</td>\n",
       "    </tr>\n",
       "    <tr>\n",
       "      <th>4</th>\n",
       "      <td>04-01-2019 23:59</td>\n",
       "      <td>Friesen Lt</td>\n",
       "      <td>health_fitness</td>\n",
       "      <td>18.17</td>\n",
       "      <td>Wales</td>\n",
       "      <td>AK</td>\n",
       "      <td>64.7556</td>\n",
       "      <td>-165.6723</td>\n",
       "      <td>145</td>\n",
       "      <td>\"Administrator, education\"</td>\n",
       "      <td>09-11-1939</td>\n",
       "      <td>891cdd1191028759dc20dc224347a0ff</td>\n",
       "      <td>65.447094</td>\n",
       "      <td>-165.446843</td>\n",
       "      <td>1</td>\n",
       "    </tr>\n",
       "  </tbody>\n",
       "</table>\n",
       "</div>"
      ]
     },
     "metadata": {},
     "output_type": "display_data"
    }
   ],
   "source": [
    "df_clean.head()"
   ]
  },
  {
   "cell_type": "code",
   "execution_count": 58,
   "id": "7141550a",
   "metadata": {},
   "outputs": [
    {
     "data": {
      "text/plain": [
       "array([1, 0])"
      ]
     },
     "execution_count": 58,
     "metadata": {},
     "output_type": "execute_result"
    }
   ],
   "source": [
    "# Converter a coluna 'is_fraud' para numérico (int), tratando possíveis erros\n",
    "df_clean['is_fraud'] = pd.to_numeric(df_clean['is_fraud'], errors='coerce').fillna(0).astype(int)\n",
    "\n",
    "# Verificar novamente os valores únicos para confirmar a conversão\n",
    "df_clean['is_fraud'].unique()"
   ]
  },
  {
   "cell_type": "code",
   "execution_count": 5,
   "id": "89ced8f0",
   "metadata": {},
   "outputs": [
    {
     "name": "stdout",
     "output_type": "stream",
     "text": [
      "<class 'pandas.core.frame.DataFrame'>\n",
      "RangeIndex: 14446 entries, 0 to 14445\n",
      "Data columns (total 15 columns):\n",
      " #   Column                 Non-Null Count  Dtype  \n",
      "---  ------                 --------------  -----  \n",
      " 0   trans_date_trans_time  14446 non-null  object \n",
      " 1   merchant               14446 non-null  object \n",
      " 2   category               14446 non-null  object \n",
      " 3   amt                    14446 non-null  float64\n",
      " 4   city                   14446 non-null  object \n",
      " 5   state                  14446 non-null  object \n",
      " 6   lat                    14446 non-null  float64\n",
      " 7   long                   14446 non-null  float64\n",
      " 8   city_pop               14446 non-null  int64  \n",
      " 9   job                    14446 non-null  object \n",
      " 10  dob                    14446 non-null  object \n",
      " 11  trans_num              14446 non-null  object \n",
      " 12  merch_lat              14446 non-null  float64\n",
      " 13  merch_long             14446 non-null  float64\n",
      " 14  is_fraud               14446 non-null  int64  \n",
      "dtypes: float64(5), int64(2), object(8)\n",
      "memory usage: 1.7+ MB\n"
     ]
    }
   ],
   "source": [
    "df.info()"
   ]
  },
  {
   "cell_type": "markdown",
   "id": "d54a4142",
   "metadata": {},
   "source": [
    "Nas próximas duas células foram tratado os campos de datas, na análise exploratória pode-se perceber que os peírodos de fraude eram maiores na madrugada então criei o campo com os períodos e será avaliado outros campos de epócas do ano com os meses."
   ]
  },
  {
   "cell_type": "code",
   "execution_count": 59,
   "id": "b8e472b4",
   "metadata": {},
   "outputs": [],
   "source": [
    "def determinar_periodo_do_dia(hora):\n",
    "    if 0 <= hora < 6:\n",
    "        return 'Madrugada'\n",
    "    elif 6 <= hora < 12:\n",
    "        return 'Manha'\n",
    "    elif 12 <= hora < 18:\n",
    "        return 'Tarde'\n",
    "    else:\n",
    "        return 'Noite'"
   ]
  },
  {
   "cell_type": "code",
   "execution_count": 60,
   "id": "8deb57db",
   "metadata": {},
   "outputs": [],
   "source": [
    "from sklearn.preprocessing import LabelEncoder, MinMaxScaler\n",
    "import numpy as np\n",
    "\n",
    "# Copiar o dataset original\n",
    "# df_clean = df\n",
    "\n",
    "# Remover colunas\n",
    "df_clean = df_clean.drop(columns=[\"trans_num\", \"merchant\", \"city\", \"state\", \"job\"])\n",
    "\n",
    "# Converter trans_date_trans_time para datetime e criar novas features\n",
    "df_clean['trans_date_trans_time'] = pd.to_datetime(df_clean['trans_date_trans_time'], format='%d-%m-%Y %H:%M')\n",
    "df_clean['transaction_hour'] = df_clean['trans_date_trans_time'].dt.hour\n",
    "df_clean['transaction_day'] = df_clean['trans_date_trans_time'].dt.day\n",
    "df_clean['transaction_month'] = df_clean['trans_date_trans_time'].dt.month\n",
    "df_clean['transaction_weekday'] = df_clean['trans_date_trans_time'].dt.weekday\n",
    "df_clean['transaction_period'] = df_clean['transaction_hour'].apply(determinar_periodo_do_dia)\n",
    "df_clean = df_clean.drop(columns=['trans_date_trans_time'])\n",
    "\n",
    "# Calcular idade com base em 'dob'\n",
    "# df_clean['dob'] = pd.to_datetime(df_clean['dob'], format='%d-%m-%Y')\n",
    "# df_clean['age'] = (pd.to_datetime('today') - df_clean['dob']).dt.days // 365\n",
    "df_clean = df_clean.drop(columns=['dob'])"
   ]
  },
  {
   "cell_type": "markdown",
   "id": "57c6be62",
   "metadata": {},
   "source": [
    "No campo montante da transação na análise exploratóra percebeu-se que a maioria das transações que eram de um valor baixo, então aplicou-se escala logaritma para reduzir o impacto de transações muito altas."
   ]
  },
  {
   "cell_type": "code",
   "execution_count": 61,
   "id": "22f22382",
   "metadata": {},
   "outputs": [],
   "source": [
    "df_clean['amt'] = np.log1p(df_clean['amt'])"
   ]
  },
  {
   "cell_type": "markdown",
   "id": "43355815",
   "metadata": {},
   "source": [
    "Foi optado por criar dummies para as colunas para ajustar as entradas com o modelo."
   ]
  },
  {
   "cell_type": "code",
   "execution_count": 62,
   "id": "0c0c4d1a",
   "metadata": {},
   "outputs": [
    {
     "data": {
      "text/html": [
       "<div>\n",
       "<style scoped>\n",
       "    .dataframe tbody tr th:only-of-type {\n",
       "        vertical-align: middle;\n",
       "    }\n",
       "\n",
       "    .dataframe tbody tr th {\n",
       "        vertical-align: top;\n",
       "    }\n",
       "\n",
       "    .dataframe thead th {\n",
       "        text-align: right;\n",
       "    }\n",
       "</style>\n",
       "<table border=\"1\" class=\"dataframe\">\n",
       "  <thead>\n",
       "    <tr style=\"text-align: right;\">\n",
       "      <th></th>\n",
       "      <th>amt</th>\n",
       "      <th>lat</th>\n",
       "      <th>long</th>\n",
       "      <th>city_pop</th>\n",
       "      <th>merch_lat</th>\n",
       "      <th>merch_long</th>\n",
       "      <th>is_fraud</th>\n",
       "      <th>transaction_hour</th>\n",
       "      <th>transaction_day</th>\n",
       "      <th>transaction_weekday</th>\n",
       "      <th>...</th>\n",
       "      <th>transaction_month_3</th>\n",
       "      <th>transaction_month_4</th>\n",
       "      <th>transaction_month_5</th>\n",
       "      <th>transaction_month_6</th>\n",
       "      <th>transaction_month_7</th>\n",
       "      <th>transaction_month_8</th>\n",
       "      <th>transaction_month_9</th>\n",
       "      <th>transaction_month_10</th>\n",
       "      <th>transaction_month_11</th>\n",
       "      <th>transaction_month_12</th>\n",
       "    </tr>\n",
       "  </thead>\n",
       "  <tbody>\n",
       "    <tr>\n",
       "      <th>0</th>\n",
       "      <td>2.732418</td>\n",
       "      <td>64.7556</td>\n",
       "      <td>-165.6723</td>\n",
       "      <td>145</td>\n",
       "      <td>65.654142</td>\n",
       "      <td>-164.722603</td>\n",
       "      <td>1</td>\n",
       "      <td>0</td>\n",
       "      <td>4</td>\n",
       "      <td>4</td>\n",
       "      <td>...</td>\n",
       "      <td>False</td>\n",
       "      <td>False</td>\n",
       "      <td>False</td>\n",
       "      <td>False</td>\n",
       "      <td>False</td>\n",
       "      <td>False</td>\n",
       "      <td>False</td>\n",
       "      <td>False</td>\n",
       "      <td>False</td>\n",
       "      <td>False</td>\n",
       "    </tr>\n",
       "    <tr>\n",
       "      <th>1</th>\n",
       "      <td>6.874312</td>\n",
       "      <td>64.7556</td>\n",
       "      <td>-165.6723</td>\n",
       "      <td>145</td>\n",
       "      <td>65.468863</td>\n",
       "      <td>-165.473127</td>\n",
       "      <td>1</td>\n",
       "      <td>15</td>\n",
       "      <td>4</td>\n",
       "      <td>4</td>\n",
       "      <td>...</td>\n",
       "      <td>False</td>\n",
       "      <td>False</td>\n",
       "      <td>False</td>\n",
       "      <td>False</td>\n",
       "      <td>False</td>\n",
       "      <td>False</td>\n",
       "      <td>False</td>\n",
       "      <td>False</td>\n",
       "      <td>False</td>\n",
       "      <td>False</td>\n",
       "    </tr>\n",
       "    <tr>\n",
       "      <th>2</th>\n",
       "      <td>3.924149</td>\n",
       "      <td>64.7556</td>\n",
       "      <td>-165.6723</td>\n",
       "      <td>145</td>\n",
       "      <td>65.347667</td>\n",
       "      <td>-165.914542</td>\n",
       "      <td>1</td>\n",
       "      <td>22</td>\n",
       "      <td>4</td>\n",
       "      <td>4</td>\n",
       "      <td>...</td>\n",
       "      <td>False</td>\n",
       "      <td>False</td>\n",
       "      <td>False</td>\n",
       "      <td>False</td>\n",
       "      <td>False</td>\n",
       "      <td>False</td>\n",
       "      <td>False</td>\n",
       "      <td>False</td>\n",
       "      <td>False</td>\n",
       "      <td>False</td>\n",
       "    </tr>\n",
       "    <tr>\n",
       "      <th>3</th>\n",
       "      <td>5.691237</td>\n",
       "      <td>64.7556</td>\n",
       "      <td>-165.6723</td>\n",
       "      <td>145</td>\n",
       "      <td>64.445035</td>\n",
       "      <td>-166.080207</td>\n",
       "      <td>1</td>\n",
       "      <td>23</td>\n",
       "      <td>4</td>\n",
       "      <td>4</td>\n",
       "      <td>...</td>\n",
       "      <td>False</td>\n",
       "      <td>False</td>\n",
       "      <td>False</td>\n",
       "      <td>False</td>\n",
       "      <td>False</td>\n",
       "      <td>False</td>\n",
       "      <td>False</td>\n",
       "      <td>False</td>\n",
       "      <td>False</td>\n",
       "      <td>False</td>\n",
       "    </tr>\n",
       "    <tr>\n",
       "      <th>4</th>\n",
       "      <td>2.953347</td>\n",
       "      <td>64.7556</td>\n",
       "      <td>-165.6723</td>\n",
       "      <td>145</td>\n",
       "      <td>65.447094</td>\n",
       "      <td>-165.446843</td>\n",
       "      <td>1</td>\n",
       "      <td>23</td>\n",
       "      <td>4</td>\n",
       "      <td>4</td>\n",
       "      <td>...</td>\n",
       "      <td>False</td>\n",
       "      <td>False</td>\n",
       "      <td>False</td>\n",
       "      <td>False</td>\n",
       "      <td>False</td>\n",
       "      <td>False</td>\n",
       "      <td>False</td>\n",
       "      <td>False</td>\n",
       "      <td>False</td>\n",
       "      <td>False</td>\n",
       "    </tr>\n",
       "  </tbody>\n",
       "</table>\n",
       "<p>5 rows × 37 columns</p>\n",
       "</div>"
      ]
     },
     "metadata": {},
     "output_type": "display_data"
    }
   ],
   "source": [
    "# Usar pd.get_dummies para criar variáveis dummies\n",
    "# df_clean = pd.get_dummies(df_clean, columns= ['category', 'transaction_period', 'transaction_month'], drop_first=False)\n",
    "df_clean = pd.get_dummies(df_clean, columns= ['category', 'transaction_month'], drop_first=False)\n",
    "df_clean.head()"
   ]
  },
  {
   "cell_type": "code",
   "execution_count": 63,
   "id": "9818691a",
   "metadata": {},
   "outputs": [],
   "source": [
    "df_clean = pd.get_dummies(df_clean, columns= ['transaction_period'], drop_first=False)"
   ]
  },
  {
   "cell_type": "markdown",
   "id": "e839b435",
   "metadata": {},
   "source": [
    "No gráfico abaixo, ele foi montado e casos seja executado nessa sequência irá quebrar, ele eestá aqui para mostrar a influência de campo no modelo, através disso foram excluídas algumas colunas para deixar mais enxuto o modelo e excluir colunas com pouca relevância."
   ]
  },
  {
   "cell_type": "code",
   "execution_count": 109,
   "id": "5e51bb6c",
   "metadata": {},
   "outputs": [
    {
     "data": {
      "image/png": "[encoded data removed]",
      "text/plain": [
       "<Figure size 720x432 with 1 Axes>"
      ]
     },
     "metadata": {
      "needs_background": "light"
     },
     "output_type": "display_data"
    }
   ],
   "source": [
    "quantidade_parametros = 40\n",
    "\n",
    "coeficientes = model.coef_[0]\n",
    "nomes_caracteristicas = X.columns\n",
    "\n",
    "# Ordenar as características pelo valor absoluto dos coeficientes\n",
    "indices_ordenados = np.argsort(np.abs(coeficientes))\n",
    "\n",
    "plt.figure(figsize=(10, 6))\n",
    "plt.barh(range(quantidade_parametros), coeficientes[indices_ordenados[-quantidade_parametros:]], align='center', color='#1f77b4')\n",
    "plt.yticks(range(quantidade_parametros), [nomes_caracteristicas[i] for i in indices_ordenados[-quantidade_parametros:]])\n",
    "plt.xlabel('Valor do Coeficiente')\n",
    "plt.ylabel('Características')\n",
    "plt.title('Importância das Características na Regressão Logística')\n",
    "plt.tight_layout()\n",
    "plt.show()"
   ]
  },
  {
   "cell_type": "markdown",
   "id": "9d65b5e0",
   "metadata": {},
   "source": [
    "Através do gráfico acima foram excluidas as colunas abaixo."
   ]
  },
  {
   "cell_type": "code",
   "execution_count": 65,
   "id": "6153b115",
   "metadata": {},
   "outputs": [],
   "source": [
    "exclude = [\n",
    "    \"city_pop\",\n",
    "    \"transaction_hour\",\n",
    "    \"merch_long\",\n",
    "    \"long\",\n",
    "    \"category_health_fitness\",\n",
    "    \"category_personal_care\",\n",
    "    \"transaction_weekday\",\n",
    "    \"category_food_dining\",\n",
    "    \"category_misc_pos\",\n",
    "    \"transaction_day\",\n",
    "    \"merch_lat\",\n",
    "    \"category_grocery_net\",\n",
    "    \"lat\",\n",
    "]"
   ]
  },
  {
   "cell_type": "code",
   "execution_count": 66,
   "id": "846aa337",
   "metadata": {},
   "outputs": [],
   "source": [
    "df_clean = df_clean.drop(columns=exclude, axis=1)"
   ]
  },
  {
   "cell_type": "code",
   "execution_count": 67,
   "id": "c1a09283",
   "metadata": {},
   "outputs": [
    {
     "data": {
      "text/html": [
       "<div>\n",
       "<style scoped>\n",
       "    .dataframe tbody tr th:only-of-type {\n",
       "        vertical-align: middle;\n",
       "    }\n",
       "\n",
       "    .dataframe tbody tr th {\n",
       "        vertical-align: top;\n",
       "    }\n",
       "\n",
       "    .dataframe thead th {\n",
       "        text-align: right;\n",
       "    }\n",
       "</style>\n",
       "<table border=\"1\" class=\"dataframe\">\n",
       "  <thead>\n",
       "    <tr style=\"text-align: right;\">\n",
       "      <th></th>\n",
       "      <th>amt</th>\n",
       "      <th>is_fraud</th>\n",
       "      <th>category_entertainment</th>\n",
       "      <th>category_gas_transport</th>\n",
       "      <th>category_grocery_pos</th>\n",
       "      <th>category_home</th>\n",
       "      <th>category_kids_pets</th>\n",
       "      <th>category_misc_net</th>\n",
       "      <th>category_shopping_net</th>\n",
       "      <th>category_shopping_pos</th>\n",
       "      <th>...</th>\n",
       "      <th>transaction_month_7</th>\n",
       "      <th>transaction_month_8</th>\n",
       "      <th>transaction_month_9</th>\n",
       "      <th>transaction_month_10</th>\n",
       "      <th>transaction_month_11</th>\n",
       "      <th>transaction_month_12</th>\n",
       "      <th>transaction_period_Madrugada</th>\n",
       "      <th>transaction_period_Manha</th>\n",
       "      <th>transaction_period_Noite</th>\n",
       "      <th>transaction_period_Tarde</th>\n",
       "    </tr>\n",
       "  </thead>\n",
       "  <tbody>\n",
       "    <tr>\n",
       "      <th>0</th>\n",
       "      <td>2.732418</td>\n",
       "      <td>1</td>\n",
       "      <td>False</td>\n",
       "      <td>False</td>\n",
       "      <td>False</td>\n",
       "      <td>False</td>\n",
       "      <td>False</td>\n",
       "      <td>False</td>\n",
       "      <td>False</td>\n",
       "      <td>False</td>\n",
       "      <td>...</td>\n",
       "      <td>False</td>\n",
       "      <td>False</td>\n",
       "      <td>False</td>\n",
       "      <td>False</td>\n",
       "      <td>False</td>\n",
       "      <td>False</td>\n",
       "      <td>True</td>\n",
       "      <td>False</td>\n",
       "      <td>False</td>\n",
       "      <td>False</td>\n",
       "    </tr>\n",
       "    <tr>\n",
       "      <th>1</th>\n",
       "      <td>6.874312</td>\n",
       "      <td>1</td>\n",
       "      <td>False</td>\n",
       "      <td>False</td>\n",
       "      <td>False</td>\n",
       "      <td>False</td>\n",
       "      <td>False</td>\n",
       "      <td>False</td>\n",
       "      <td>True</td>\n",
       "      <td>False</td>\n",
       "      <td>...</td>\n",
       "      <td>False</td>\n",
       "      <td>False</td>\n",
       "      <td>False</td>\n",
       "      <td>False</td>\n",
       "      <td>False</td>\n",
       "      <td>False</td>\n",
       "      <td>False</td>\n",
       "      <td>False</td>\n",
       "      <td>False</td>\n",
       "      <td>True</td>\n",
       "    </tr>\n",
       "    <tr>\n",
       "      <th>2</th>\n",
       "      <td>3.924149</td>\n",
       "      <td>1</td>\n",
       "      <td>False</td>\n",
       "      <td>False</td>\n",
       "      <td>False</td>\n",
       "      <td>False</td>\n",
       "      <td>False</td>\n",
       "      <td>False</td>\n",
       "      <td>False</td>\n",
       "      <td>False</td>\n",
       "      <td>...</td>\n",
       "      <td>False</td>\n",
       "      <td>False</td>\n",
       "      <td>False</td>\n",
       "      <td>False</td>\n",
       "      <td>False</td>\n",
       "      <td>False</td>\n",
       "      <td>False</td>\n",
       "      <td>False</td>\n",
       "      <td>True</td>\n",
       "      <td>False</td>\n",
       "    </tr>\n",
       "    <tr>\n",
       "      <th>3</th>\n",
       "      <td>5.691237</td>\n",
       "      <td>1</td>\n",
       "      <td>False</td>\n",
       "      <td>False</td>\n",
       "      <td>True</td>\n",
       "      <td>False</td>\n",
       "      <td>False</td>\n",
       "      <td>False</td>\n",
       "      <td>False</td>\n",
       "      <td>False</td>\n",
       "      <td>...</td>\n",
       "      <td>False</td>\n",
       "      <td>False</td>\n",
       "      <td>False</td>\n",
       "      <td>False</td>\n",
       "      <td>False</td>\n",
       "      <td>False</td>\n",
       "      <td>False</td>\n",
       "      <td>False</td>\n",
       "      <td>True</td>\n",
       "      <td>False</td>\n",
       "    </tr>\n",
       "    <tr>\n",
       "      <th>4</th>\n",
       "      <td>2.953347</td>\n",
       "      <td>1</td>\n",
       "      <td>False</td>\n",
       "      <td>False</td>\n",
       "      <td>False</td>\n",
       "      <td>False</td>\n",
       "      <td>False</td>\n",
       "      <td>False</td>\n",
       "      <td>False</td>\n",
       "      <td>False</td>\n",
       "      <td>...</td>\n",
       "      <td>False</td>\n",
       "      <td>False</td>\n",
       "      <td>False</td>\n",
       "      <td>False</td>\n",
       "      <td>False</td>\n",
       "      <td>False</td>\n",
       "      <td>False</td>\n",
       "      <td>False</td>\n",
       "      <td>True</td>\n",
       "      <td>False</td>\n",
       "    </tr>\n",
       "  </tbody>\n",
       "</table>\n",
       "<p>5 rows × 27 columns</p>\n",
       "</div>"
      ]
     },
     "metadata": {},
     "output_type": "display_data"
    }
   ],
   "source": [
    "df_clean.head()"
   ]
  },
  {
   "cell_type": "code",
   "execution_count": 68,
   "id": "05f94a8d",
   "metadata": {},
   "outputs": [],
   "source": [
    "# Separação de entrada e saída dos dados\n",
    "X = df_clean.drop(columns=['is_fraud'])\n",
    "y = df_clean['is_fraud']"
   ]
  },
  {
   "cell_type": "code",
   "execution_count": 15,
   "id": "1c22206b",
   "metadata": {},
   "outputs": [
    {
     "data": {
      "text/html": [
       "<div>\n",
       "<style scoped>\n",
       "    .dataframe tbody tr th:only-of-type {\n",
       "        vertical-align: middle;\n",
       "    }\n",
       "\n",
       "    .dataframe tbody tr th {\n",
       "        vertical-align: top;\n",
       "    }\n",
       "\n",
       "    .dataframe thead th {\n",
       "        text-align: right;\n",
       "    }\n",
       "</style>\n",
       "<table border=\"1\" class=\"dataframe\">\n",
       "  <thead>\n",
       "    <tr style=\"text-align: right;\">\n",
       "      <th></th>\n",
       "      <th>amt</th>\n",
       "      <th>is_fraud</th>\n",
       "      <th>category_entertainment</th>\n",
       "      <th>category_gas_transport</th>\n",
       "      <th>category_grocery_pos</th>\n",
       "      <th>category_home</th>\n",
       "      <th>category_kids_pets</th>\n",
       "      <th>category_misc_net</th>\n",
       "      <th>category_shopping_net</th>\n",
       "      <th>category_shopping_pos</th>\n",
       "      <th>category_travel</th>\n",
       "      <th>transaction_period_Madrugada</th>\n",
       "      <th>transaction_period_Manhã</th>\n",
       "      <th>transaction_period_Noite</th>\n",
       "      <th>transaction_period_Tarde</th>\n",
       "    </tr>\n",
       "  </thead>\n",
       "  <tbody>\n",
       "    <tr>\n",
       "      <th>0</th>\n",
       "      <td>2.732418</td>\n",
       "      <td>1</td>\n",
       "      <td>False</td>\n",
       "      <td>False</td>\n",
       "      <td>False</td>\n",
       "      <td>False</td>\n",
       "      <td>False</td>\n",
       "      <td>False</td>\n",
       "      <td>False</td>\n",
       "      <td>False</td>\n",
       "      <td>False</td>\n",
       "      <td>True</td>\n",
       "      <td>False</td>\n",
       "      <td>False</td>\n",
       "      <td>False</td>\n",
       "    </tr>\n",
       "    <tr>\n",
       "      <th>1</th>\n",
       "      <td>6.874312</td>\n",
       "      <td>1</td>\n",
       "      <td>False</td>\n",
       "      <td>False</td>\n",
       "      <td>False</td>\n",
       "      <td>False</td>\n",
       "      <td>False</td>\n",
       "      <td>False</td>\n",
       "      <td>True</td>\n",
       "      <td>False</td>\n",
       "      <td>False</td>\n",
       "      <td>False</td>\n",
       "      <td>False</td>\n",
       "      <td>False</td>\n",
       "      <td>True</td>\n",
       "    </tr>\n",
       "    <tr>\n",
       "      <th>2</th>\n",
       "      <td>3.924149</td>\n",
       "      <td>1</td>\n",
       "      <td>False</td>\n",
       "      <td>False</td>\n",
       "      <td>False</td>\n",
       "      <td>False</td>\n",
       "      <td>False</td>\n",
       "      <td>False</td>\n",
       "      <td>False</td>\n",
       "      <td>False</td>\n",
       "      <td>False</td>\n",
       "      <td>False</td>\n",
       "      <td>False</td>\n",
       "      <td>True</td>\n",
       "      <td>False</td>\n",
       "    </tr>\n",
       "    <tr>\n",
       "      <th>3</th>\n",
       "      <td>5.691237</td>\n",
       "      <td>1</td>\n",
       "      <td>False</td>\n",
       "      <td>False</td>\n",
       "      <td>True</td>\n",
       "      <td>False</td>\n",
       "      <td>False</td>\n",
       "      <td>False</td>\n",
       "      <td>False</td>\n",
       "      <td>False</td>\n",
       "      <td>False</td>\n",
       "      <td>False</td>\n",
       "      <td>False</td>\n",
       "      <td>True</td>\n",
       "      <td>False</td>\n",
       "    </tr>\n",
       "    <tr>\n",
       "      <th>4</th>\n",
       "      <td>2.953347</td>\n",
       "      <td>1</td>\n",
       "      <td>False</td>\n",
       "      <td>False</td>\n",
       "      <td>False</td>\n",
       "      <td>False</td>\n",
       "      <td>False</td>\n",
       "      <td>False</td>\n",
       "      <td>False</td>\n",
       "      <td>False</td>\n",
       "      <td>False</td>\n",
       "      <td>False</td>\n",
       "      <td>False</td>\n",
       "      <td>True</td>\n",
       "      <td>False</td>\n",
       "    </tr>\n",
       "  </tbody>\n",
       "</table>\n",
       "</div>"
      ]
     },
     "metadata": {},
     "output_type": "display_data"
    }
   ],
   "source": [
    "df_clean.head()"
   ]
  },
  {
   "cell_type": "code",
   "execution_count": 69,
   "id": "5f6398a4",
   "metadata": {},
   "outputs": [],
   "source": [
    "# Separa dos conjuntos de treino e testes\n",
    "x_train, x_test, y_train, y_test = train_test_split(X, y, test_size=0.30, random_state=13)"
   ]
  },
  {
   "cell_type": "markdown",
   "id": "0e96f6f9",
   "metadata": {},
   "source": [
    "### Regressão Logística"
   ]
  },
  {
   "cell_type": "markdown",
   "id": "a4e63c52",
   "metadata": {},
   "source": [
    "Os hiperparâmetros utilizados no modelo abaixo foram variados e essa foi a configuração final:\n",
    "max_iter=100, ela foi variado para mais e menos e esse foi um balanço encontrado sem muitas iterações para não gerar overftng e nem tão poucas pro underfiting;\n",
    "random_state=42, para garantir a reprodutibilidade dos treinamentos;\n",
    "class_weight='balanced', hiperparâmetro para melhorar treinamento de datasets desbalanceados;\n",
    "C=0.1, para evitar o risco de overfiting;\n",
    "solver='liblinear'funcionou melhor para o dataset, por ser um dataset menor e baixa dimensionalidade."
   ]
  },
  {
   "cell_type": "code",
   "execution_count": 70,
   "id": "6cb02acd",
   "metadata": {},
   "outputs": [],
   "source": [
    "# Criação do modelo e definição dos hiperparâmetros\n",
    "lr = LogisticRegression(max_iter=100, random_state=42, class_weight='balanced', C=0.1, solver='liblinear')\n",
    "model = lr.fit(x_train, y_train)"
   ]
  },
  {
   "cell_type": "markdown",
   "id": "11f1ed01",
   "metadata": {},
   "source": [
    "#### Avaliação Modelo\n",
    "Na curva ROC é possível ver que ela está próxima ao canto esquerdo oque mostra que o modelo separa bem as classes. Um AUC de 0,962 que mostra um excelente desempenho. Será ajustado o treshold de classificação do modelo baseado na curva roc."
   ]
  },
  {
   "cell_type": "code",
   "execution_count": 71,
   "id": "8245d142",
   "metadata": {},
   "outputs": [
    {
     "data": {
      "text/plain": [
       "<matplotlib.legend.Legend at 0x7d558c17fa00>"
      ]
     },
     "execution_count": 71,
     "metadata": {},
     "output_type": "execute_result"
    },
    {
     "data": {
      "image/png": "[encoded data removed]",
      "text/plain": [
       "<Figure size 864x576 with 1 Axes>"
      ]
     },
     "metadata": {
      "needs_background": "light"
     },
     "output_type": "display_data"
    }
   ],
   "source": [
    "y_pred_proba = model.predict_proba(x_test)[::, 1]\n",
    "fpr, tpr, _ = metrics.roc_curve(y_test, y_pred_proba)\n",
    "auc = metrics.roc_auc_score(y_test, y_pred_proba)\n",
    "\n",
    "plt.rcParams['figure.figsize'] = (12., 8.)\n",
    "plt.plot(fpr, tpr, label =\"LR, auc=\"+str(auc))\n",
    "plt.plot([0,1], [0,1], color='red', lw=2, linestyle ='--')\n",
    "plt.legend(loc=4)"
   ]
  },
  {
   "cell_type": "markdown",
   "id": "29ab121b",
   "metadata": {},
   "source": [
    "Abaixo o gráfico da importância de cada parâmetro no modelo, os a direita influênciam mais para uma detecção de fraude, poderiam ser trabalhados ainda nos parâmetros de entrada, mas o foco vai ser na solução completa."
   ]
  },
  {
   "cell_type": "code",
   "execution_count": 73,
   "id": "6524ee6d",
   "metadata": {},
   "outputs": [
    {
     "data": {
      "image/png": "[encoded data removed]",
      "text/plain": [
       "<Figure size 720x432 with 1 Axes>"
      ]
     },
     "metadata": {
      "needs_background": "light"
     },
     "output_type": "display_data"
    }
   ],
   "source": [
    "quantidade_parametros = 25\n",
    "\n",
    "coeficientes = model.coef_[0]\n",
    "nomes_caracteristicas = X.columns\n",
    "\n",
    "# Ordenar as características pelo valor absoluto dos coeficientes\n",
    "indices_ordenados = np.argsort(np.abs(coeficientes))\n",
    "\n",
    "plt.figure(figsize=(10, 6))\n",
    "plt.barh(range(quantidade_parametros), coeficientes[indices_ordenados[-quantidade_parametros:]], align='center', color='#1f77b4')\n",
    "plt.yticks(range(quantidade_parametros), [nomes_caracteristicas[i] for i in indices_ordenados[-quantidade_parametros:]])\n",
    "plt.xlabel('Valor do Coeficiente')\n",
    "plt.ylabel('Características')\n",
    "plt.title('Importância das Características na Regressão Logística')\n",
    "plt.tight_layout()\n",
    "plt.show()"
   ]
  },
  {
   "cell_type": "markdown",
   "id": "6e32a088",
   "metadata": {},
   "source": [
    "#### Avaliação Dataset Testes"
   ]
  },
  {
   "cell_type": "markdown",
   "id": "8932176d",
   "metadata": {},
   "source": [
    "##### Treshold 50\n",
    "Com um treshold de 50% padrão na classificação.\n",
    "Nas métricas abaixo foram utilizadas como parâmetro a recall e F1. \n",
    "A recall alta como é o caso 0.86 significa que o modelo está detectando bem as fraudes.\n",
    "E a F1 é que o modelo está em bom equilibrio entre precisão e recall, para que classifique bem as fraudes mas não gere uma grande quantidade de Falsos Positivos(nesse caso pela matriz de confusão 96).\n",
    "Os resultados encontrados foram condizentes com literatura encontrada em artigos científicos."
   ]
  },
  {
   "cell_type": "code",
   "execution_count": 74,
   "id": "7b47ae39",
   "metadata": {},
   "outputs": [
    {
     "name": "stdout",
     "output_type": "stream",
     "text": [
      "Recall:  0.9340463458110517\n",
      "F1:  0.9357142857142857\n",
      "Acurácia:  0.9833871712044301\n",
      "Precisão:  0.9373881932021467\n"
     ]
    }
   ],
   "source": [
    "y_pred = model.predict(x_test)\n",
    "print('Recall: ', metrics.recall_score(y_test, y_pred))\n",
    "print('F1: ', metrics.f1_score(y_test, y_pred))\n",
    "print('Acurácia: ', metrics.accuracy_score(y_test, y_pred))\n",
    "print('Precisão: ', metrics.precision_score(y_test, y_pred))"
   ]
  },
  {
   "cell_type": "code",
   "execution_count": 75,
   "id": "88261f6c",
   "metadata": {},
   "outputs": [
    {
     "data": {
      "text/plain": [
       "<sklearn.metrics._plot.confusion_matrix.ConfusionMatrixDisplay at 0x7d5581712200>"
      ]
     },
     "execution_count": 75,
     "metadata": {},
     "output_type": "execute_result"
    },
    {
     "data": {
      "image/png": "[encoded data removed]",
      "text/plain": [
       "<Figure size 864x576 with 2 Axes>"
      ]
     },
     "metadata": {
      "needs_background": "light"
     },
     "output_type": "display_data"
    }
   ],
   "source": [
    "cm = confusion_matrix(y_test, y_pred)\n",
    "disp = ConfusionMatrixDisplay(confusion_matrix=cm)\n",
    "disp.plot()"
   ]
  },
  {
   "cell_type": "markdown",
   "id": "f9fe36b7",
   "metadata": {},
   "source": [
    "##### Ajustes de Treshold"
   ]
  },
  {
   "cell_type": "markdown",
   "id": "02fba533",
   "metadata": {},
   "source": [
    "Para encontrar o threshold foram utilizados dois métodos, o primeiro como um vetor variando o mesmo e dando a pontuação dde F1 e recall. E o segundo é a métrica geométrica que maximiza a detecção de Verdadeiros Positivos e minimiza os Falsos Positivos.\n",
    "Foi escolhido do segundo método um valor de 0.496, mas casos em próximas discussões for escolhido por levar em considerção diminuir um campo pode ser alterado. \n",
    "Aqui também as métricas condizem com oque é encontrada na literatura."
   ]
  },
  {
   "cell_type": "code",
   "execution_count": 76,
   "id": "03246914",
   "metadata": {},
   "outputs": [
    {
     "name": "stdout",
     "output_type": "stream",
     "text": [
      "Threshold: 0.10, F1-Score: 0.44, recall: 0.96\n",
      "Threshold: 0.15, F1-Score: 0.51, recall: 0.96\n",
      "Threshold: 0.20, F1-Score: 0.57, recall: 0.95\n",
      "Threshold: 0.25, F1-Score: 0.62, recall: 0.95\n",
      "Threshold: 0.30, F1-Score: 0.72, recall: 0.94\n",
      "Threshold: 0.35, F1-Score: 0.81, recall: 0.94\n",
      "Threshold: 0.40, F1-Score: 0.86, recall: 0.94\n",
      "Threshold: 0.45, F1-Score: 0.90, recall: 0.94\n",
      "Threshold: 0.50, F1-Score: 0.94, recall: 0.93\n",
      "Threshold: 0.55, F1-Score: 0.94, recall: 0.93\n",
      "Threshold: 0.60, F1-Score: 0.93, recall: 0.90\n",
      "Threshold: 0.65, F1-Score: 0.92, recall: 0.89\n",
      "Threshold: 0.70, F1-Score: 0.92, recall: 0.88\n",
      "Threshold: 0.75, F1-Score: 0.92, recall: 0.86\n",
      "Threshold: 0.80, F1-Score: 0.90, recall: 0.83\n",
      "Threshold: 0.85, F1-Score: 0.89, recall: 0.81\n"
     ]
    }
   ],
   "source": [
    "from sklearn.metrics import f1_score, recall_score\n",
    "\n",
    "# Testar vários thresholds e avaliar o F1-Score\n",
    "thresholds = np.arange(0.1, 0.9, 0.05)\n",
    "for threshold in thresholds:\n",
    "    y_pred_class = (y_pred_proba > threshold).astype(int)\n",
    "    f1 = f1_score(y_test, y_pred_class)\n",
    "    recall = recall_score(y_test, y_pred_class)\n",
    "    print(f\"Threshold: {threshold:.2f}, F1-Score: {f1:.2f}, recall: {recall:.2f}\")\n"
   ]
  },
  {
   "cell_type": "code",
   "execution_count": 77,
   "id": "722c8daf",
   "metadata": {},
   "outputs": [
    {
     "name": "stdout",
     "output_type": "stream",
     "text": [
      "Melhor Threshold (ROC): 0.49667967234053234\n"
     ]
    }
   ],
   "source": [
    "from sklearn.metrics import roc_curve\n",
    "\n",
    "# Calcular FPR, TPR e thresholds\n",
    "fpr, tpr, thresholds = roc_curve(y_test, y_pred_proba)\n",
    "\n",
    "# Encontrar o threshold com o menor FPR e maior TPR\n",
    "gmeans = np.sqrt(tpr * (1-fpr))\n",
    "best_threshold = thresholds[gmeans.argmax()]\n",
    "print(\"Melhor Threshold (ROC):\", best_threshold)\n"
   ]
  },
  {
   "cell_type": "code",
   "execution_count": 78,
   "id": "abfc9b9c",
   "metadata": {
    "scrolled": true
   },
   "outputs": [
    {
     "data": {
      "text/plain": [
       "<sklearn.metrics._plot.confusion_matrix.ConfusionMatrixDisplay at 0x7d558c157550>"
      ]
     },
     "execution_count": 78,
     "metadata": {},
     "output_type": "execute_result"
    },
    {
     "data": {
      "image/png": "[encoded data removed]",
      "text/plain": [
       "<Figure size 864x576 with 2 Axes>"
      ]
     },
     "metadata": {
      "needs_background": "light"
     },
     "output_type": "display_data"
    }
   ],
   "source": [
    "y_pred_proba = model.predict_proba(x_test)[:, 1]\n",
    "threshold = 0.496\n",
    "y_pred_class = (y_pred_proba > threshold).astype(int)\n",
    "cm = confusion_matrix(y_test, y_pred_class)\n",
    "disp = ConfusionMatrixDisplay(confusion_matrix=cm)\n",
    "disp.plot()"
   ]
  },
  {
   "cell_type": "code",
   "execution_count": 79,
   "id": "bdef6f3b",
   "metadata": {},
   "outputs": [
    {
     "name": "stdout",
     "output_type": "stream",
     "text": [
      "Recall:  0.9358288770053476\n",
      "F1:  0.9358288770053476\n",
      "Acurácia:  0.9833871712044301\n",
      "Precisão:  0.9358288770053476\n"
     ]
    }
   ],
   "source": [
    "print('Recall: ', metrics.recall_score(y_test, y_pred_class))\n",
    "print('F1: ', metrics.f1_score(y_test, y_pred_class))\n",
    "print('Acurácia: ', metrics.accuracy_score(y_test, y_pred_class))\n",
    "print('Precisão: ', metrics.precision_score(y_test, y_pred_class))"
   ]
  },
  {
   "cell_type": "code",
   "execution_count": 50,
   "id": "35dd7302",
   "metadata": {},
   "outputs": [],
   "source": [
    "# Exportar artefato\n",
    "meu_arquivo = open('modelo_regressao_v0112.pkl',  'wb')\n",
    "\n",
    "pickle.dump(model, meu_arquivo)\n",
    "meu_arquivo.close()"
   ]
  }
 ],
 "metadata": {
  "kernelspec": {
   "display_name": "Python 3 (ipykernel)",
   "language": "python",
   "name": "python3"
  },
  "language_info": {
   "codemirror_mode": {
    "name": "ipython",
    "version": 3
   },
   "file_extension": ".py",
   "mimetype": "text/x-python",
   "name": "python",
   "nbconvert_exporter": "python",
   "pygments_lexer": "ipython3",
   "version": "3.10.12"
  }
 },
 "nbformat": 4,
 "nbformat_minor": 5
}
